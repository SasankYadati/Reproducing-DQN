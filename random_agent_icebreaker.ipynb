{
 "cells": [
  {
   "cell_type": "code",
   "execution_count": null,
   "metadata": {},
   "outputs": [],
   "source": [
    "import gym\n",
    "from dqn import DQNAgent\n",
    "from network import CNN"
   ]
  },
  {
   "cell_type": "code",
   "execution_count": null,
   "metadata": {},
   "outputs": [],
   "source": [
    "env = gym.make('Breakout-v4')"
   ]
  },
  {
   "cell_type": "code",
   "execution_count": null,
   "metadata": {},
   "outputs": [],
   "source": [
    "q_net = CNN(env.action_space.n)\n",
    "agent = DQNAgent(env.action_space.n)\n",
    "SKIP_FRAMES = 4\n",
    "NUM_EPISODES = 5000\n",
    "frames_seen = 0\n",
    "frames = 0\n",
    "eps_rewards = dict()\n",
    "total_reward = 0.0\n",
    "for i in range(NUM_EPISODES):\n",
    "    done = False\n",
    "    observation = env.reset()\n",
    "    eps_reward = 0\n",
    "    reward, done = 0, False\n",
    "    while not done:    \n",
    "        action, eps = agent.policy(observation, reward, done)\n",
    "        frames_seen += 1\n",
    "        for _ in range(SKIP_FRAMES):\n",
    "            frames += 1\n",
    "            observation, reward, done, _ = env.step(action)\n",
    "            eps_reward += reward\n",
    "            if done:\n",
    "                break\n",
    "    eps_rewards[i] = eps_reward\n",
    "    total_reward += eps_reward\n",
    "    print(f\"Episode {i} Epsilon = {eps} Reward = {eps_reward} Avg Reward = {total_reward/(i+1)} Frames seen {frames_seen} Frames {frames}\")"
   ]
  },
  {
   "cell_type": "code",
   "execution_count": null,
   "metadata": {},
   "outputs": [],
   "source": []
  }
 ],
 "metadata": {
  "interpreter": {
   "hash": "5355853c489e23519272f6339d921bfaedad6416fa077322fa42b6a55d31f7d9"
  },
  "kernelspec": {
   "display_name": "Python 3.9.7 64-bit ('reproduce-research': conda)",
   "language": "python",
   "name": "python3"
  },
  "language_info": {
   "codemirror_mode": {
    "name": "ipython",
    "version": 3
   },
   "file_extension": ".py",
   "mimetype": "text/x-python",
   "name": "python",
   "nbconvert_exporter": "python",
   "pygments_lexer": "ipython3",
   "version": "3.9.7"
  },
  "orig_nbformat": 4
 },
 "nbformat": 4,
 "nbformat_minor": 2
}
