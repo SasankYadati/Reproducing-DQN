{
 "cells": [
  {
   "cell_type": "code",
   "execution_count": null,
   "metadata": {},
   "outputs": [],
   "source": [
    "import gym\n",
    "from dqn import DQNAgent\n",
    "from network import CNN\n",
    "from utils import LinearScheduler, ReplayMemory, preprocess, get_random_states, plot"
   ]
  },
  {
   "cell_type": "code",
   "execution_count": null,
   "metadata": {},
   "outputs": [],
   "source": [
    "env = gym.make('Breakout-v4')"
   ]
  },
  {
   "cell_type": "code",
   "execution_count": null,
   "metadata": {},
   "outputs": [],
   "source": [
    "final_eps = 0.1\n",
    "initial_eps = 1.0\n",
    "max_steps = 1000000\n",
    "eps_scheduler = LinearScheduler(initial_eps, final_eps, max_steps)\n",
    "target_obs_size = (1, 110, 84)\n",
    "replay_memory = ReplayMemory(60000)\n",
    "random_states = get_random_states(env, target_obs_size, 256, env.action_space.n)"
   ]
  },
  {
   "cell_type": "code",
   "execution_count": null,
   "metadata": {},
   "outputs": [],
   "source": []
  },
  {
   "cell_type": "code",
   "execution_count": null,
   "metadata": {},
   "outputs": [],
   "source": [
    "q_net = CNN(env.action_space.n)\n",
    "agent = DQNAgent(env.action_space.n, replay_memory, preprocess, target_obs_size, eps_scheduler, 64)\n",
    "SKIP_FRAMES = 3\n",
    "NUM_EPISODES = 10000\n",
    "frames_seen = 0\n",
    "frames = 0\n",
    "total_reward = 0.0\n",
    "for i in range(NUM_EPISODES):\n",
    "    done = False\n",
    "    observation = env.reset()\n",
    "    eps_reward = 0.0\n",
    "    reward, done = 0.0, False\n",
    "    while not done:    \n",
    "        action, eps = agent.policy(observation, reward, done)\n",
    "        frames_seen += 1\n",
    "        reward = 0.0\n",
    "        for _ in range(SKIP_FRAMES+1):\n",
    "            frames += 1\n",
    "            observation, r, done, _ = env.step(action)\n",
    "            reward += r\n",
    "            if done:\n",
    "                break\n",
    "        eps_reward += reward\n",
    "    total_reward += eps_reward\n",
    "    q_val_avg = agent.evaluate(states=random_states)\n",
    "    print(f\"Episode {i} Epsilon = {eps:.5f} Reward = {eps_reward:.3f} Avg Reward = {total_reward/(i+1):.3f} Avg Q Val: {q_val_avg:.3f}\")\n",
    "    if (eps_reward) >= 100.0 or total_reward/(i+1) >= 25.0:\n",
    "        break"
   ]
  },
  {
   "cell_type": "code",
   "execution_count": null,
   "metadata": {},
   "outputs": [],
   "source": []
  },
  {
   "cell_type": "code",
   "execution_count": null,
   "metadata": {},
   "outputs": [],
   "source": []
  }
 ],
 "metadata": {
  "interpreter": {
   "hash": "5355853c489e23519272f6339d921bfaedad6416fa077322fa42b6a55d31f7d9"
  },
  "kernelspec": {
   "display_name": "Python 3.9.7 64-bit ('reproduce-research': conda)",
   "language": "python",
   "name": "python3"
  },
  "language_info": {
   "codemirror_mode": {
    "name": "ipython",
    "version": 3
   },
   "file_extension": ".py",
   "mimetype": "text/x-python",
   "name": "python",
   "nbconvert_exporter": "python",
   "pygments_lexer": "ipython3",
   "version": "3.9.7"
  },
  "orig_nbformat": 4
 },
 "nbformat": 4,
 "nbformat_minor": 2
}
