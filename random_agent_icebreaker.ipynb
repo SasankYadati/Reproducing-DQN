{
 "cells": [
  {
   "cell_type": "code",
   "execution_count": null,
   "metadata": {},
   "outputs": [],
   "source": [
    "import gym"
   ]
  },
  {
   "cell_type": "code",
   "execution_count": null,
   "metadata": {},
   "outputs": [],
   "source": [
    "env = gym.make('Breakout-v4', render_mode='human')"
   ]
  },
  {
   "cell_type": "code",
   "execution_count": null,
   "metadata": {},
   "outputs": [],
   "source": [
    "done = False\n",
    "_ = env.reset()\n",
    "while not done:    \n",
    "    random_action = env.action_space.sample()\n",
    "    observation, rew, done, _ = env.step(random_action)\n",
    "    env.render(mode='human')"
   ]
  }
 ],
 "metadata": {
  "interpreter": {
   "hash": "5355853c489e23519272f6339d921bfaedad6416fa077322fa42b6a55d31f7d9"
  },
  "kernelspec": {
   "display_name": "Python 3.9.7 64-bit ('reproduce-research': conda)",
   "language": "python",
   "name": "python3"
  },
  "language_info": {
   "codemirror_mode": {
    "name": "ipython",
    "version": 3
   },
   "file_extension": ".py",
   "mimetype": "text/x-python",
   "name": "python",
   "nbconvert_exporter": "python",
   "pygments_lexer": "ipython3",
   "version": "3.9.7"
  },
  "orig_nbformat": 4
 },
 "nbformat": 4,
 "nbformat_minor": 2
}
